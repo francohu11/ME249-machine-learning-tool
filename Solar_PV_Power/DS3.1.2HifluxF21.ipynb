{
 "cells": [
  {
   "cell_type": "code",
   "execution_count": null,
   "id": "mechanical-incidence",
   "metadata": {},
   "outputs": [],
   "source": [
    "import math, numpy\n",
    "\n",
    "#Part 1 input HI FLUX DATA: Air temp (degC), ID (W/sqm), load resistance (ohms)\n",
    "\n",
    "xdata = [[-10.0, 1550, 4.464], \n",
    "  [-10.0, 1850, 4.464], \n",
    "  [10.0, 1550, 4.464], \n",
    "  [10.0, 1850, 4.464], \n",
    "  [30.0, 1550, 4.464], \n",
    "  [30.0, 1850, 4.464], \n",
    "  [-10.0, 1550, 6.696], \n",
    "  [-10.0, 1850, 6.696], \n",
    "  [10.0, 1550, 6.696], \n",
    "  [10.0, 1850, 6.696], \n",
    "  [30.0, 1550, 6.696], \n",
    "  [30.0, 1850, 6.696], \n",
    "  [-10.0, 1550, 8.928], \n",
    "  [-10.0, 1850, 8.928],   \n",
    "  [10.0, 1550, 8.928], \n",
    "  [10.0, 1850, 8.928], \n",
    "  [30.0, 1550, 8.928], \n",
    "  [30.0, 1850, 8.928]]\n",
    " \n",
    "#Part 1 output HI FLUX DATA: load voltage (V) and Power out (W)\n",
    "ydata = [[26.1, 152.8], \n",
    " [26.5, 172.7], \n",
    " [27.9, 191.4], \n",
    " [28.3, 198.0], \n",
    " [29.6, 217.8], \n",
    " [30.1, 224.4],  \n",
    " [26.9, 118.8], \n",
    " [27.2, 122.1], \n",
    " [28.8, 136.4], \n",
    " [29.1, 139.7], \n",
    " [30.6, 154.0], \n",
    " [31.0, 158.4],  \n",
    " [27.3, 92.4], \n",
    " [27.6, 94.6], \n",
    " [29.2, 105.6], \n",
    " [29.6, 107.8], \n",
    " [31.1, 119.9], \n",
    " [31.5, 123.2]]\n",
    "\n",
    "\n",
    "xarray= numpy.array(xdata)\n",
    "yarray= numpy.array(ydata)\n",
    "print (xdata)\n",
    "print (xarray)\n",
    "print (ydata)\n",
    "print (yarray)"
   ]
  },
  {
   "cell_type": "code",
   "execution_count": null,
   "id": "united-trinidad",
   "metadata": {},
   "outputs": [],
   "source": []
  }
 ],
 "metadata": {
  "kernelspec": {
   "display_name": "Python 3 (ipykernel)",
   "language": "python",
   "name": "python3"
  },
  "language_info": {
   "codemirror_mode": {
    "name": "ipython",
    "version": 3
   },
   "file_extension": ".py",
   "mimetype": "text/x-python",
   "name": "python",
   "nbconvert_exporter": "python",
   "pygments_lexer": "ipython3",
   "version": "3.7.7"
  }
 },
 "nbformat": 4,
 "nbformat_minor": 5
}
